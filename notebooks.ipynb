{
 "cells": [
  {
   "cell_type": "markdown",
   "id": "ceb3d5ff",
   "metadata": {},
   "source": [
    "# %% [markdown]\n",
    "# # Diabetes Health Indicators Analysis\n",
    "# ![Diabetes Analysis](https://img.icons8.com/color/96/000000/diabetes.png)\n",
    "# \n",
    "# A comprehensive analysis of diabetes risk factors using CDC's BRFSS survey data with machine learning capabilities."
   ]
  },
  {
   "cell_type": "markdown",
   "id": "9ebf29b4",
   "metadata": {},
   "source": [
    " ## 1. Import Required Libraries"
   ]
  },
  {
   "cell_type": "code",
   "execution_count": null,
   "id": "d7ec858b",
   "metadata": {},
   "outputs": [],
   "source": [
    "import pandas as pd\n",
    "import numpy as np\n",
    "import matplotlib.pyplot as plt\n",
    "import seaborn as sns\n",
    "from sklearn.model_selection import train_test_split\n",
    "from sklearn.preprocessing import StandardScaler\n",
    "from sklearn.ensemble import RandomForestClassifier\n",
    "from sklearn.metrics import classification_report, accuracy_score, f1_score\n",
    "from sklearn.impute import SimpleImputer\n",
    "from scipy import stats\n",
    "import plotly.express as px\n",
    "from ipywidgets import interact, widgets, Layout\n",
    "from IPython.display import display, Markdown\n",
    "\n",
    "# Set style for visualizations\n",
    "plt.style.use('seaborn')\n",
    "%matplotlib inline"
   ]
  },
  {
   "cell_type": "markdown",
   "id": "d7bd9e3b",
   "metadata": {},
   "source": [
    "## 2. Data Loading"
   ]
  },
  {
   "cell_type": "code",
   "execution_count": null,
   "id": "1a934cbe",
   "metadata": {},
   "outputs": [],
   "source": [
    "def load_data():\n",
    "    try:\n",
    "        df = pd.read_csv('diabetes_012_health_indicators_BRFSS2015.csv')\n",
    "        print(\"✅ Dataset loaded successfully!\")\n",
    "        print(f\"Shape: {df.shape}\")\n",
    "        return df\n",
    "    except Exception as e:\n",
    "        print(f\"❌ Error loading data: {str(e)}\")\n",
    "        return None\n",
    "\n",
    "df = load_data()\n",
    "df.head()"
   ]
  },
  {
   "cell_type": "markdown",
   "id": "2c179c77",
   "metadata": {},
   "source": [
    "## 3. Data Preprocessing"
   ]
  },
  {
   "cell_type": "code",
   "execution_count": null,
   "id": "1b4d6a67",
   "metadata": {},
   "outputs": [],
   "source": [
    "def preprocess_data(df):\n",
    "    # Create copy to avoid SettingWithCopyWarning\n",
    "    processed_df = df.copy()\n",
    "    \n",
    "    # Create BMI categories\n",
    "    processed_df['BMI_Category'] = pd.cut(processed_df['BMI'], \n",
    "                                       bins=[0, 18.5, 25, 30, 35, 40, 100],\n",
    "                                       labels=['Underweight', 'Normal', 'Overweight',\n",
    "                                              'Obese I', 'Obese II', 'Obese III'])\n",
    "    \n",
    "    # Remove outliers using z-score\n",
    "    numerical_cols = processed_df.select_dtypes(include=[np.number]).columns\n",
    "    z_scores = np.abs(stats.zscore(processed_df[numerical_cols]))\n",
    "    processed_df = processed_df[(z_scores < 3).all(axis=1)]\n",
    "    \n",
    "    # Prepare features and target\n",
    "    X = processed_df.drop(['Diabetes_012', 'BMI_Category'], axis=1, errors='ignore')\n",
    "    y = processed_df['Diabetes_012']\n",
    "    \n",
    "    return processed_df, X, y\n",
    "\n",
    "df_processed, X, y = preprocess_data(df)\n",
    "print(\"\\nAfter preprocessing:\")\n",
    "print(f\"Original shape: {df.shape}\")\n",
    "print(f\"Processed shape: {df_processed.shape}\")\n"
   ]
  },
  {
   "cell_type": "markdown",
   "id": "71f7a5f9",
   "metadata": {},
   "source": [
    " ## 4. Exploratory Data Analysis"
   ]
  },
  {
   "cell_type": "markdown",
   "id": "e8c7693d",
   "metadata": {},
   "source": [
    "### 4.1 Summary Statistics"
   ]
  },
  {
   "cell_type": "code",
   "execution_count": null,
   "id": "119a869c",
   "metadata": {},
   "outputs": [],
   "source": [
    "def show_summary(df):\n",
    "    display(df.describe().T.style.background_gradient(cmap='Blues'))\n",
    "    \n",
    "show_summary(df_processed)"
   ]
  },
  {
   "cell_type": "markdown",
   "id": "9a983963",
   "metadata": {},
   "source": [
    "### 4.2 Missing Values Analysis"
   ]
  },
  {
   "cell_type": "code",
   "execution_count": null,
   "id": "cee81d7f",
   "metadata": {},
   "outputs": [],
   "source": [
    "def show_missing_values(df):\n",
    "    missing = df.isnull().sum()\n",
    "    if missing.sum() == 0:\n",
    "        print(\"✅ No missing values found!\")\n",
    "    else:\n",
    "        print(f\"⚠️ Found {missing.sum()} missing values\")\n",
    "        display(missing[missing > 0].to_frame('Missing Count'))\n",
    "        \n",
    "show_missing_values(df_processed)"
   ]
  },
  {
   "cell_type": "markdown",
   "id": "98ebe1ba",
   "metadata": {},
   "source": [
    "### 4.3 Feature Distributions"
   ]
  },
  {
   "cell_type": "code",
   "execution_count": null,
   "id": "4704cd82",
   "metadata": {},
   "outputs": [],
   "source": [
    "def plot_distribution(column='BMI'):\n",
    "    fig, ax = plt.subplots(figsize=(10,5))\n",
    "    sns.histplot(df_processed[column], kde=True, ax=ax)\n",
    "    ax.set_title(f'Distribution of {column}')\n",
    "    plt.show()\n",
    "\n",
    "# Interactive widget\n",
    "interact(plot_distribution, column=df_processed.select_dtypes(include=np.number).columns);\n"
   ]
  },
  {
   "cell_type": "markdown",
   "id": "c439126a",
   "metadata": {},
   "source": [
    "### 4.4 Correlation Analysis"
   ]
  },
  {
   "cell_type": "code",
   "execution_count": null,
   "id": "31e0ed31",
   "metadata": {},
   "outputs": [],
   "source": [
    "plt.figure(figsize=(16,12))\n",
    "corr = df_processed.corr()\n",
    "sns.heatmap(corr, annot=True, fmt=\".2f\", cmap='coolwarm', center=0)\n",
    "plt.title('Feature Correlation Matrix')\n",
    "plt.show()"
   ]
  },
  {
   "cell_type": "markdown",
   "id": "438974f9",
   "metadata": {},
   "source": [
    " ### 4.5 Grouped Analysis"
   ]
  },
  {
   "cell_type": "code",
   "execution_count": null,
   "id": "7a8dc8a4",
   "metadata": {},
   "outputs": [],
   "source": [
    "\n",
    "def show_grouped_analysis(group_col='Age', agg_col='Diabetes_012'):\n",
    "    # Grouped statistics\n",
    "    grouped_stats = df_processed.groupby(group_col)[agg_col].agg(['mean', 'median', 'std', 'count'])\n",
    "    display(grouped_stats.style.background_gradient(cmap='Blues'))\n",
    "    \n",
    "    # Visualization\n",
    "    fig, ax = plt.subplots(figsize=(10, 5))\n",
    "    if agg_col == 'Diabetes_012':\n",
    "        sns.barplot(x=group_col, y=agg_col, data=df_processed, ax=ax, ci=None)\n",
    "    else:\n",
    "        sns.boxplot(x=group_col, y=agg_col, data=df_processed, ax=ax)\n",
    "    plt.xticks(rotation=45)\n",
    "    ax.set_title(f'{agg_col} Distribution by {group_col}')\n",
    "    plt.show()\n",
    "\n",
    "    # Interactive widget\n",
    "interact(show_grouped_analysis, \n",
    "         group_col=['BMI_Category', 'Age', 'GenHlth', 'Income'], \n",
    "         agg_col=['Diabetes_012', 'BMI', 'PhysHlth', 'MentHlth']);"
   ]
  },
  {
   "cell_type": "markdown",
   "id": "9d113cbe",
   "metadata": {},
   "source": [
    "## 5. Model Training"
   ]
  },
  {
   "cell_type": "code",
   "execution_count": null,
   "id": "5ae95c05",
   "metadata": {},
   "outputs": [],
   "source": [
    "def train_model(X, y):\n",
    "    # Split data\n",
    "    X_train, X_test, y_train, y_test = train_test_split(X, y, test_size=0.2, random_state=42)\n",
    "    \n",
    "    # Scale features\n",
    "    scaler = StandardScaler()\n",
    "    X_train_scaled = scaler.fit_transform(X_train)\n",
    "    X_test_scaled = scaler.transform(X_test)\n",
    "    \n",
    "    # Train model\n",
    "    model = RandomForestClassifier(n_estimators=200, max_depth=12, \n",
    "                                 min_samples_split=5, class_weight='balanced',\n",
    "                                 random_state=42)\n",
    "    model.fit(X_train_scaled, y_train)\n",
    "    \n",
    "    # Evaluate\n",
    "    y_pred = model.predict(X_test_scaled)\n",
    "    print(classification_report(y_test, y_pred))\n",
    "    \n",
    "    return model, scaler, X_test_scaled, y_test\n",
    "\n",
    "model, scaler, X_test_scaled, y_test = train_model(X, y)"
   ]
  },
  {
   "cell_type": "markdown",
   "id": "80456a19",
   "metadata": {},
   "source": [
    " ## 6. Feature Importance"
   ]
  },
  {
   "cell_type": "code",
   "execution_count": null,
   "id": "9fea97d0",
   "metadata": {},
   "outputs": [],
   "source": [
    "def plot_feature_importance(model, feature_names):\n",
    "    importance = pd.DataFrame({\n",
    "        'Feature': feature_names,\n",
    "        'Importance': model.feature_importances_\n",
    "    }).sort_values('Importance', ascending=False)\n",
    "    \n",
    "    plt.figure(figsize=(12,8))\n",
    "    sns.barplot(x='Importance', y='Feature', data=importance.head(10))\n",
    "    plt.title('Top 10 Important Features')\n",
    "    plt.show()\n",
    "\n",
    "plot_feature_importance(model, X.columns)"
   ]
  },
  {
   "cell_type": "markdown",
   "id": "bbd3f7a4",
   "metadata": {},
   "source": [
    "## 7. Interactive Prediction"
   ]
  },
  {
   "cell_type": "code",
   "execution_count": null,
   "id": "f455aa54",
   "metadata": {},
   "outputs": [],
   "source": [
    "def predict_diabetes_risk():\n",
    "    # Create interactive widgets\n",
    "    style = {'description_width': '250px'}\n",
    "    layout = widgets.Layout(width='400px')\n",
    "    \n",
    "    inputs = {\n",
    "        'highbp': widgets.Dropdown(options=[0,1], description='High Blood Pressure:', style=style, layout=layout),\n",
    "        'highchol': widgets.Dropdown(options=[0,1], description='High Cholesterol:', style=style, layout=layout),\n",
    "        'bmi': widgets.FloatSlider(min=10,max=100,value=25,description='BMI:', style=style, layout=layout),\n",
    "        'age': widgets.IntSlider(min=1,max=13,value=7,description='Age Group:', style=style, layout=layout),\n",
    "        'genhlth': widgets.IntSlider(min=1,max=5,value=3,description='General Health (1-5):', style=style, layout=layout)\n",
    "    }\n",
    "    \n",
    "    def make_prediction(**kwargs):\n",
    "        # Prepare input data in correct order\n",
    "        input_data = np.zeros((1, len(X.columns)))\n",
    "        \n",
    "        # Map inputs to correct positions\n",
    "        features_order = X.columns.tolist()\n",
    "        for i, col in enumerate(features_order):\n",
    "            if col in kwargs:\n",
    "                input_data[0,i] = kwargs[col]\n",
    "            elif col == 'BMI' and 'bmi' in kwargs:\n",
    "                input_data[0,i] = kwargs['bmi']\n",
    "        \n",
    "        # Scale and predict\n",
    "        scaled_input = scaler.transform(input_data)\n",
    "        prediction = model.predict(scaled_input)[0]\n",
    "        proba = model.predict_proba(scaled_input)[0]\n",
    "        \n",
    "        # Display results\n",
    "        status = ['No Diabetes', 'Prediabetes', 'Diabetes'][prediction]\n",
    "        print(f\"\\n🔮 Prediction: {status}\")\n",
    "        print(\"\\nProbability Estimates:\")\n",
    "        display(pd.DataFrame({\n",
    "            'Status': ['No Diabetes', 'Prediabetes', 'Diabetes'],\n",
    "            'Probability': proba\n",
    "        }).set_index('Status').style.background_gradient(cmap='Blues'))\n",
    "    \n",
    "    return interact(make_prediction, **inputs)\n",
    "\n",
    "predict_diabetes_risk()\n"
   ]
  },
  {
   "cell_type": "markdown",
   "id": "c1525ef4",
   "metadata": {},
   "source": [
    "## 8. Conclusion"
   ]
  },
  {
   "cell_type": "code",
   "execution_count": null,
   "id": "af064766",
   "metadata": {},
   "outputs": [],
   "source": [
    "display(Markdown(\"\"\"\n",
    "### Key Findings:\n",
    "- **Top Predictors**: HighBP, HighChol, BMI, GenHlth, PhysHlth\n",
    "- **Model Performance**: Achieved {:.1f}% accuracy\n",
    "- **Risk Factors**: Age, BMI, and general health show strong correlation\n",
    "\n",
    "### Recommendations:\n",
    "1. Focus on modifiable risk factors (BMI, physical activity)\n",
    "2. Regular health checkups for high-risk groups\n",
    "3. Lifestyle interventions for prediabetes cases\n",
    "\"\"\".format(accuracy_score(y_test, model.predict(X_test_scaled))*100)))"
   ]
  }
 ],
 "metadata": {
  "language_info": {
   "name": "python"
  }
 },
 "nbformat": 4,
 "nbformat_minor": 5
}
